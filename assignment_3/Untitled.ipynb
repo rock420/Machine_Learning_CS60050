{
 "cells": [
  {
   "cell_type": "code",
   "execution_count": 1,
   "metadata": {},
   "outputs": [],
   "source": [
    "import pandas as pd\n",
    "import numpy as np\n",
    "import matplotlib.pyplot as plt\n",
    "#import Decision_Tree as dt\n",
    "import math"
   ]
  },
  {
   "cell_type": "code",
   "execution_count": 2,
   "metadata": {},
   "outputs": [],
   "source": [
    "data=pd.read_csv('data3_19.csv')\n",
    "test=pd.read_csv('test3_19.csv',header=None)"
   ]
  },
  {
   "cell_type": "code",
   "execution_count": 3,
   "metadata": {},
   "outputs": [
    {
     "data": {
      "text/html": [
       "<div>\n",
       "<style scoped>\n",
       "    .dataframe tbody tr th:only-of-type {\n",
       "        vertical-align: middle;\n",
       "    }\n",
       "\n",
       "    .dataframe tbody tr th {\n",
       "        vertical-align: top;\n",
       "    }\n",
       "\n",
       "    .dataframe thead th {\n",
       "        text-align: right;\n",
       "    }\n",
       "</style>\n",
       "<table border=\"1\" class=\"dataframe\">\n",
       "  <thead>\n",
       "    <tr style=\"text-align: right;\">\n",
       "      <th></th>\n",
       "      <th>pclass</th>\n",
       "      <th>age</th>\n",
       "      <th>gender</th>\n",
       "      <th>survived</th>\n",
       "    </tr>\n",
       "  </thead>\n",
       "  <tbody>\n",
       "    <tr>\n",
       "      <th>0</th>\n",
       "      <td>1st</td>\n",
       "      <td>adult</td>\n",
       "      <td>male</td>\n",
       "      <td>yes</td>\n",
       "    </tr>\n",
       "    <tr>\n",
       "      <th>1</th>\n",
       "      <td>1st</td>\n",
       "      <td>adult</td>\n",
       "      <td>male</td>\n",
       "      <td>yes</td>\n",
       "    </tr>\n",
       "    <tr>\n",
       "      <th>2</th>\n",
       "      <td>1st</td>\n",
       "      <td>adult</td>\n",
       "      <td>male</td>\n",
       "      <td>yes</td>\n",
       "    </tr>\n",
       "    <tr>\n",
       "      <th>3</th>\n",
       "      <td>1st</td>\n",
       "      <td>adult</td>\n",
       "      <td>male</td>\n",
       "      <td>yes</td>\n",
       "    </tr>\n",
       "    <tr>\n",
       "      <th>4</th>\n",
       "      <td>1st</td>\n",
       "      <td>adult</td>\n",
       "      <td>male</td>\n",
       "      <td>yes</td>\n",
       "    </tr>\n",
       "  </tbody>\n",
       "</table>\n",
       "</div>"
      ],
      "text/plain": [
       "  pclass    age gender survived\n",
       "0    1st  adult   male      yes\n",
       "1    1st  adult   male      yes\n",
       "2    1st  adult   male      yes\n",
       "3    1st  adult   male      yes\n",
       "4    1st  adult   male      yes"
      ]
     },
     "execution_count": 3,
     "metadata": {},
     "output_type": "execute_result"
    }
   ],
   "source": [
    "data.head()"
   ]
  },
  {
   "cell_type": "code",
   "execution_count": 4,
   "metadata": {},
   "outputs": [
    {
     "data": {
      "text/html": [
       "<div>\n",
       "<style scoped>\n",
       "    .dataframe tbody tr th:only-of-type {\n",
       "        vertical-align: middle;\n",
       "    }\n",
       "\n",
       "    .dataframe tbody tr th {\n",
       "        vertical-align: top;\n",
       "    }\n",
       "\n",
       "    .dataframe thead th {\n",
       "        text-align: right;\n",
       "    }\n",
       "</style>\n",
       "<table border=\"1\" class=\"dataframe\">\n",
       "  <thead>\n",
       "    <tr style=\"text-align: right;\">\n",
       "      <th></th>\n",
       "      <th>0</th>\n",
       "      <th>1</th>\n",
       "      <th>2</th>\n",
       "      <th>3</th>\n",
       "    </tr>\n",
       "  </thead>\n",
       "  <tbody>\n",
       "    <tr>\n",
       "      <th>0</th>\n",
       "      <td>1st</td>\n",
       "      <td>adult</td>\n",
       "      <td>male</td>\n",
       "      <td>yes</td>\n",
       "    </tr>\n",
       "    <tr>\n",
       "      <th>1</th>\n",
       "      <td>1st</td>\n",
       "      <td>adult</td>\n",
       "      <td>male</td>\n",
       "      <td>yes</td>\n",
       "    </tr>\n",
       "    <tr>\n",
       "      <th>2</th>\n",
       "      <td>1st</td>\n",
       "      <td>adult</td>\n",
       "      <td>male</td>\n",
       "      <td>yes</td>\n",
       "    </tr>\n",
       "    <tr>\n",
       "      <th>3</th>\n",
       "      <td>1st</td>\n",
       "      <td>adult</td>\n",
       "      <td>male</td>\n",
       "      <td>yes</td>\n",
       "    </tr>\n",
       "    <tr>\n",
       "      <th>4</th>\n",
       "      <td>1st</td>\n",
       "      <td>adult</td>\n",
       "      <td>male</td>\n",
       "      <td>yes</td>\n",
       "    </tr>\n",
       "  </tbody>\n",
       "</table>\n",
       "</div>"
      ],
      "text/plain": [
       "     0      1     2    3\n",
       "0  1st  adult  male  yes\n",
       "1  1st  adult  male  yes\n",
       "2  1st  adult  male  yes\n",
       "3  1st  adult  male  yes\n",
       "4  1st  adult  male  yes"
      ]
     },
     "execution_count": 4,
     "metadata": {},
     "output_type": "execute_result"
    }
   ],
   "source": [
    "test.head()"
   ]
  },
  {
   "cell_type": "code",
   "execution_count": 5,
   "metadata": {},
   "outputs": [
    {
     "name": "stdout",
     "output_type": "stream",
     "text": [
      "(2150, 4)\n",
      "(66, 4)\n"
     ]
    }
   ],
   "source": [
    "print(data.shape)\n",
    "print(test.shape)"
   ]
  },
  {
   "cell_type": "code",
   "execution_count": 6,
   "metadata": {},
   "outputs": [
    {
     "name": "stdout",
     "output_type": "stream",
     "text": [
      "<class 'pandas.core.frame.DataFrame'>\n",
      "RangeIndex: 2150 entries, 0 to 2149\n",
      "Data columns (total 4 columns):\n",
      "pclass      2150 non-null object\n",
      "age         2150 non-null object\n",
      "gender      2150 non-null object\n",
      "survived    2150 non-null object\n",
      "dtypes: object(4)\n",
      "memory usage: 67.3+ KB\n"
     ]
    }
   ],
   "source": [
    "data.info()"
   ]
  },
  {
   "cell_type": "code",
   "execution_count": 7,
   "metadata": {},
   "outputs": [
    {
     "data": {
      "text/plain": [
       "crew    885\n",
       "3rd     699\n",
       "1st     307\n",
       "2nd     259\n",
       "Name: pclass, dtype: int64"
      ]
     },
     "execution_count": 7,
     "metadata": {},
     "output_type": "execute_result"
    }
   ],
   "source": [
    "data['pclass'].value_counts()"
   ]
  },
  {
   "cell_type": "code",
   "execution_count": 8,
   "metadata": {},
   "outputs": [
    {
     "data": {
      "text/plain": [
       "adult    2046\n",
       "child     104\n",
       "Name: age, dtype: int64"
      ]
     },
     "execution_count": 8,
     "metadata": {},
     "output_type": "execute_result"
    }
   ],
   "source": [
    "data['age'].value_counts()"
   ]
  },
  {
   "cell_type": "code",
   "execution_count": 9,
   "metadata": {},
   "outputs": [
    {
     "data": {
      "text/plain": [
       "male      1710\n",
       "female     440\n",
       "Name: gender, dtype: int64"
      ]
     },
     "execution_count": 9,
     "metadata": {},
     "output_type": "execute_result"
    }
   ],
   "source": [
    "data['gender'].value_counts()"
   ]
  },
  {
   "cell_type": "code",
   "execution_count": 56,
   "metadata": {},
   "outputs": [
    {
     "name": "stdout",
     "output_type": "stream",
     "text": [
      "0.19953488372092854\n",
      "0.5246534857537647\n",
      "0.29150969715135766\n"
     ]
    },
    {
     "name": "stderr",
     "output_type": "stream",
     "text": [
      "/home/ayan/anaconda3/lib/python3.7/site-packages/ipykernel_launcher.py:16: FutureWarning: Using a non-tuple sequence for multidimensional indexing is deprecated; use `arr[tuple(seq)]` instead of `arr[seq]`. In the future this will be interpreted as an array index, `arr[np.array(seq)]`, which will result either in an error or a different result.\n",
      "  app.launch_new_instance()\n"
     ]
    }
   ],
   "source": [
    "training=data.to_numpy()\n",
    "N=training.shape[0]\n",
    "indices=[i for i in range(0,N)]\n",
    "init_prob=1/N\n",
    "weight=[init_prob for i in range(0,N)]\n",
    "T=3\n",
    "#features=np.array(['pclass','age','gender'])\n",
    "features={}\n",
    "for feature in data.columns.values[:3]:\n",
    "    features[feature]=data[feature].value_counts().index.values\n",
    "attribute={'pclass':0,'age':1,'gender':2,'survived':3}\n",
    "Trees=[]\n",
    "Classifier_Weight=[]\n",
    "for i in range(0,T):\n",
    "    sample_indices=np.random.choice(indices,N,p=weight)\n",
    "    sample_data=training[[sample_indices]]\n",
    "    tree=Tree(attribute)\n",
    "    root=tree.build_tree(sample_data,features)\n",
    "    #tree.print_tree(root)\n",
    "    error=0\n",
    "    misclassified=[]\n",
    "    correctclassified=[]\n",
    "    for j in range(0,N):\n",
    "        if(sample_data[j,3]!=tree.Prediction(sample_data[j])):\n",
    "            error+=weight[sample_indices[j]]\n",
    "            misclassified.append(sample_indices[j])\n",
    "        else:\n",
    "            correctclassified.append(sample_indices[j])\n",
    "    #print(list(sample_data[:,3]).count('yes'),\"  \",list(sample_data[:,3]).count('no'))\n",
    "    if(error==0): error=1e-4\n",
    "    print(error)\n",
    "    alpha=(1/2)*math.log(abs(1-error)/error)\n",
    "    for j in misclassified:\n",
    "        weight[j]=weight[j]*math.exp(alpha)\n",
    "    for j in correctclassified:\n",
    "        weight[j]=weight[j]*math.exp(-alpha)\n",
    "    s=sum(weight)\n",
    "    weight=[k/s for k in weight]\n",
    "    \n",
    "    Trees.append(tree)\n",
    "    Classifier_Weight.append(alpha)\n",
    "    "
   ]
  },
  {
   "cell_type": "code",
   "execution_count": 28,
   "metadata": {},
   "outputs": [],
   "source": [
    "target={'yes':1,'no':-1}\n",
    "\n",
    "def Predict(test):\n",
    "    Predictions=[]\n",
    "    s=0\n",
    "    for instance in test:\n",
    "        Classifier=0\n",
    "        for i in range(len(Trees)):\n",
    "            Classifier+=Classifier_Weight[i]*target[Trees[i].Prediction(instance)]\n",
    "        if Classifier>=0:\n",
    "            Predictions.append('yes')\n",
    "        else: Predictions.append('no')\n",
    "        \n",
    "        if(Predictions[-1]==instance[3]): s+=1\n",
    "    print(s/len(test))\n",
    "        \n",
    "    return Predictions"
   ]
  },
  {
   "cell_type": "code",
   "execution_count": 59,
   "metadata": {},
   "outputs": [
    {
     "name": "stdout",
     "output_type": "stream",
     "text": [
      "Training\n",
      "0.7869767441860465\n",
      "Testing\n",
      "0.5303030303030303\n"
     ]
    }
   ],
   "source": [
    "print(\"Training\")\n",
    "p_train=Predict(training)\n",
    "\n",
    "print(\"Testing\")\n",
    "p_test=Predict(test.to_numpy())"
   ]
  },
  {
   "cell_type": "code",
   "execution_count": 53,
   "metadata": {},
   "outputs": [
    {
     "name": "stdout",
     "output_type": "stream",
     "text": [
      "Training: 0.4753488372093023\n",
      "Testing: 0.8181818181818182\n"
     ]
    }
   ],
   "source": [
    "s=0\n",
    "for i in range(len(training)):\n",
    "    if training[i][3]==p_train[i]: \n",
    "        s+=1\n",
    "print(\"Training: {}\".format(s/len(training)))\n",
    "s=0\n",
    "t=test.to_numpy()\n",
    "for i in range(len(t)):\n",
    "    if t[i][3]==p_test[i]: \n",
    "        s+=1\n",
    "print(\"Testing: {}\".format(s/len(t)))"
   ]
  },
  {
   "cell_type": "code",
   "execution_count": 10,
   "metadata": {},
   "outputs": [],
   "source": [
    "def entropy(S):\n",
    "    p1=list(S[:,3]).count('yes')/(S.shape[0])\n",
    "    p0=list(S[:,3]).count('no')/(S.shape[0])\n",
    "    if(p0==0): return -p1*math.log2(p1)\n",
    "    if(p1==0): return -p0*math.log2(p0)\n",
    "    return -p0*math.log2(p0)-p1*math.log2(p1)\n",
    "\n",
    "def gain(S,A):\n",
    "    \"\"\"\n",
    "       S-> data\n",
    "       A-> splitting attribute\n",
    "    \"\"\"\n",
    "    unique_values=np.unique(S[:,A])\n",
    "    S_len=S.shape[0]\n",
    "    entropy_Sv=0\n",
    "    for v in unique_values:\n",
    "        Sv=S[S[:,A]==v]\n",
    "        entropy_Sv+=(Sv.shape[0]/S_len)*entropy(Sv)\n",
    "    \n",
    "    return entropy(S)-entropy_Sv\n",
    "\n",
    "class node:\n",
    "    \n",
    "    def __init__(self,data,value=None,splitting_attr=None,branches=[],leaf=False,predict=None):\n",
    "        self.value=value\n",
    "        self.splitting_attr=splitting_attr\n",
    "        self.branches=branches\n",
    "        self.leaf=leaf\n",
    "        if(leaf):\n",
    "            self.predict=predict\n",
    "class Tree:\n",
    "    def __init__(self,attribute):\n",
    "        self.root=None\n",
    "        self.attribute=attribute\n",
    "        \n",
    "    def build_tree(self,training,features,max_tree_depth=4,value=None,l=0):\n",
    "        \n",
    "        p1=list(training[:,3]).count('yes')\n",
    "        p0=list(training[:,3]).count('no')\n",
    "        \n",
    "        if(p1==0): \n",
    "            self.root=node(training,value,leaf=True,predict='no')\n",
    "            return self.root\n",
    "        if(p0==0): \n",
    "                self.root=node(training,value,leaf=True,predict='yes')\n",
    "                return self.root\n",
    "        \n",
    "        if(len(features)==0 ):\n",
    "            if(p0>p1): \n",
    "                self.root=node(training,value,leaf=True,predict='no')\n",
    "                return self.root\n",
    "            else: \n",
    "                self.root=node(training,value,leaf=True,predict='yes')\n",
    "                return self.root\n",
    "        \n",
    "        max_gain=-1\n",
    "        splitting_attr=''\n",
    "        for i in features.keys():\n",
    "            ig=gain(training,self.attribute[i])\n",
    "            if(ig>max_gain):\n",
    "                max_gain=ig\n",
    "                splitting_attr=i\n",
    "        branches=[]\n",
    "       \n",
    "        for v in features[splitting_attr]:\n",
    "            if(training[training[:,self.attribute[splitting_attr]]==v].size==0): \n",
    "                    if(p0>p1): branches.append(node(training,value=v,leaf=True,predict='no'))\n",
    "                    else: branches.append( node(training,value=v,leaf=True,predict='yes'))\n",
    "            else:\n",
    "                f={key:val for key,val in features.items() if key!=splitting_attr}\n",
    "                branches.append(self.build_tree(training[training[:,self.attribute[splitting_attr]]==v],f,\n",
    "                                      max_tree_depth,value=v,l=l+1) )\n",
    "            \n",
    "        root=node(training,value,splitting_attr,branches)\n",
    "        self.root=root\n",
    "        return root\n",
    "  \n",
    "    def Prediction(self,test):\n",
    "        r=self.root\n",
    "        while(r.leaf!=True):\n",
    "            a=r.splitting_attr\n",
    "            for node in r.branches:\n",
    "                if(test[self.attribute[a]]==node.value):\n",
    "                    r=node\n",
    "                    break\n",
    "        return r.predict\n",
    "    def print_tree(self,root,ind='   ',l=0,splitting_attr=None):\n",
    "        if(root.leaf==True):\n",
    "            if(splitting_attr!=None):\n",
    "                print(l*ind,splitting_attr,\" = \",root.value,\": \",root.predict)\n",
    "                return\n",
    "            else: \n",
    "                print(l*ind,\"survived = \",root.predict)\n",
    "                return\n",
    "        if(splitting_attr!=None): print(l*ind,splitting_attr,\" = \",root.value)\n",
    "        \n",
    "        for node in root.branches:\n",
    "            self.print_tree(node,l=l+1,splitting_attr=root.splitting_attr)"
   ]
  },
  {
   "cell_type": "code",
   "execution_count": null,
   "metadata": {},
   "outputs": [],
   "source": []
  },
  {
   "cell_type": "code",
   "execution_count": null,
   "metadata": {},
   "outputs": [],
   "source": []
  },
  {
   "cell_type": "code",
   "execution_count": 202,
   "metadata": {},
   "outputs": [],
   "source": []
  },
  {
   "cell_type": "code",
   "execution_count": null,
   "metadata": {},
   "outputs": [],
   "source": [
    "\n"
   ]
  },
  {
   "cell_type": "code",
   "execution_count": null,
   "metadata": {},
   "outputs": [],
   "source": [
    "class Tree_stump:\n",
    "    def __init__(self,attribute):\n",
    "        self.root=None\n",
    "        self.attribute=attribute\n",
    "        \n",
    "    def build_tree(self,training,features,max_tree_depth=4,value=None,l=0):\n",
    "        for feature in features.key():\n",
    "            for v in features[feature]:\n",
    "                training[training[:,self.attribute[feature]]==v]\n",
    "        \n",
    "  \n",
    "    def Prediction(self,test):\n",
    "        r=self.root\n",
    "        while(r.leaf!=True):\n",
    "            a=r.splitting_attr\n",
    "            for node in r.branches:\n",
    "                if(test[self.attribute[a]]==node.value):\n",
    "                    r=node\n",
    "                    break\n",
    "        return r.predict\n",
    "    def print_tree(self,root,ind='   ',l=0,splitting_attr=None):\n",
    "        if(root.leaf==True):\n",
    "            if(splitting_attr!=None):\n",
    "                print(l*ind,splitting_attr,\" = \",root.value,\": \",root.predict)\n",
    "                return\n",
    "            else: \n",
    "                print(l*ind,\"survived = \",root.predict)\n",
    "                return\n",
    "        if(splitting_attr!=None): print(l*ind,splitting_attr,\" = \",root.value)\n",
    "        \n",
    "        for node in root.branches:\n",
    "            self.print_tree(node,l=l+1,splitting_attr=root.splitting_attr)"
   ]
  },
  {
   "cell_type": "code",
   "execution_count": null,
   "metadata": {},
   "outputs": [],
   "source": [
    "N=training.shape[0]\n",
    "indices=[i for i in range(0,N)]\n",
    "init_prob=1/N\n",
    "weight=[init_prob for i in range(0,N)]\n",
    "\n",
    "T=20\n",
    "features=np.array(['pclass','age','gender'])\n",
    "attribute={'pclass':0,'age':1,'gender':2,'survived':3}\n",
    "Trees=[]\n",
    "Classifier_Weight=[]\n",
    "for i in range(0,T):\n",
    "    sample_indices=np.random.choice(indices,N,p=weight)\n",
    "    sample_data=training[[sample_indices]]\n",
    "    tree=Tree(attribute)\n",
    "    root=tree.build_tree(sample_data,features)\n",
    "    #tree.print_tree(root)\n",
    "    error=0\n",
    "    misclassified=[]\n",
    "    correctclassified=[]\n",
    "    for j in range(0,N):\n",
    "        if(sample_data[j,3]!=tree.Prediction(sample_data[j])):\n",
    "            error+=weight[sample_indices[j]]\n",
    "            misclassified.append(sample_indices[j])\n",
    "        else:\n",
    "            correctclassified.append(sample_indices[j])\n",
    "    print(error)\n",
    "    if(error==0): error=1e-5\n",
    "    alpha=(1/2)*math.log(abs(1-error)/error)\n",
    "    for j in misclassified:\n",
    "        weight[j]=weight[j]*math.exp(alpha)\n",
    "    for j in correctclassified:\n",
    "        weight[j]=weight[j]*math.exp(-alpha)\n",
    "    s=sum(weight)\n",
    "    weight=[k/s for k in weight]\n",
    "    \n",
    "    Trees.append(tree)\n",
    "    Classifier_Weight.append(alpha)\n",
    "    "
   ]
  }
 ],
 "metadata": {
  "kernelspec": {
   "display_name": "Python 3",
   "language": "python",
   "name": "python3"
  },
  "language_info": {
   "codemirror_mode": {
    "name": "ipython",
    "version": 3
   },
   "file_extension": ".py",
   "mimetype": "text/x-python",
   "name": "python",
   "nbconvert_exporter": "python",
   "pygments_lexer": "ipython3",
   "version": "3.7.4"
  }
 },
 "nbformat": 4,
 "nbformat_minor": 2
}
