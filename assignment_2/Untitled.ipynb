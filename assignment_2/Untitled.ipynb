{
 "cells": [
  {
   "cell_type": "code",
   "execution_count": 1,
   "metadata": {},
   "outputs": [],
   "source": [
    "import pandas as pd\n",
    "import numpy as np\n",
    "import matplotlib.pyplot as plt\n",
    "%matplotlib inline"
   ]
  },
  {
   "cell_type": "code",
   "execution_count": 2,
   "metadata": {},
   "outputs": [],
   "source": [
    "data=pd.read_csv(\"data2.csv\")\n",
    "test=pd.read_csv(\"test2.csv\")"
   ]
  },
  {
   "cell_type": "code",
   "execution_count": 3,
   "metadata": {},
   "outputs": [
    {
     "data": {
      "text/html": [
       "<div>\n",
       "<style scoped>\n",
       "    .dataframe tbody tr th:only-of-type {\n",
       "        vertical-align: middle;\n",
       "    }\n",
       "\n",
       "    .dataframe tbody tr th {\n",
       "        vertical-align: top;\n",
       "    }\n",
       "\n",
       "    .dataframe thead th {\n",
       "        text-align: right;\n",
       "    }\n",
       "</style>\n",
       "<table border=\"1\" class=\"dataframe\">\n",
       "  <thead>\n",
       "    <tr style=\"text-align: right;\">\n",
       "      <th></th>\n",
       "      <th>D</th>\n",
       "      <th>X1</th>\n",
       "      <th>X2</th>\n",
       "      <th>X3</th>\n",
       "      <th>X4</th>\n",
       "      <th>X5</th>\n",
       "      <th>X6</th>\n",
       "    </tr>\n",
       "  </thead>\n",
       "  <tbody>\n",
       "    <tr>\n",
       "      <th>0</th>\n",
       "      <td>0</td>\n",
       "      <td>3</td>\n",
       "      <td>3</td>\n",
       "      <td>3</td>\n",
       "      <td>4</td>\n",
       "      <td>2</td>\n",
       "      <td>4</td>\n",
       "    </tr>\n",
       "    <tr>\n",
       "      <th>1</th>\n",
       "      <td>0</td>\n",
       "      <td>3</td>\n",
       "      <td>2</td>\n",
       "      <td>3</td>\n",
       "      <td>5</td>\n",
       "      <td>4</td>\n",
       "      <td>3</td>\n",
       "    </tr>\n",
       "    <tr>\n",
       "      <th>2</th>\n",
       "      <td>1</td>\n",
       "      <td>5</td>\n",
       "      <td>3</td>\n",
       "      <td>3</td>\n",
       "      <td>3</td>\n",
       "      <td>3</td>\n",
       "      <td>5</td>\n",
       "    </tr>\n",
       "    <tr>\n",
       "      <th>3</th>\n",
       "      <td>0</td>\n",
       "      <td>5</td>\n",
       "      <td>4</td>\n",
       "      <td>3</td>\n",
       "      <td>3</td>\n",
       "      <td>3</td>\n",
       "      <td>5</td>\n",
       "    </tr>\n",
       "    <tr>\n",
       "      <th>4</th>\n",
       "      <td>0</td>\n",
       "      <td>5</td>\n",
       "      <td>4</td>\n",
       "      <td>3</td>\n",
       "      <td>3</td>\n",
       "      <td>3</td>\n",
       "      <td>5</td>\n",
       "    </tr>\n",
       "  </tbody>\n",
       "</table>\n",
       "</div>"
      ],
      "text/plain": [
       "   D  X1  X2  X3  X4  X5  X6\n",
       "0  0   3   3   3   4   2   4\n",
       "1  0   3   2   3   5   4   3\n",
       "2  1   5   3   3   3   3   5\n",
       "3  0   5   4   3   3   3   5\n",
       "4  0   5   4   3   3   3   5"
      ]
     },
     "execution_count": 3,
     "metadata": {},
     "output_type": "execute_result"
    }
   ],
   "source": [
    "data.head()"
   ]
  },
  {
   "cell_type": "code",
   "execution_count": 10,
   "metadata": {},
   "outputs": [
    {
     "data": {
      "text/plain": [
       "4"
      ]
     },
     "execution_count": 10,
     "metadata": {},
     "output_type": "execute_result"
    }
   ],
   "source": [
    "data.to_numpy()[0][6]"
   ]
  },
  {
   "cell_type": "code",
   "execution_count": 4,
   "metadata": {},
   "outputs": [
    {
     "data": {
      "text/html": [
       "<div>\n",
       "<style scoped>\n",
       "    .dataframe tbody tr th:only-of-type {\n",
       "        vertical-align: middle;\n",
       "    }\n",
       "\n",
       "    .dataframe tbody tr th {\n",
       "        vertical-align: top;\n",
       "    }\n",
       "\n",
       "    .dataframe thead th {\n",
       "        text-align: right;\n",
       "    }\n",
       "</style>\n",
       "<table border=\"1\" class=\"dataframe\">\n",
       "  <thead>\n",
       "    <tr style=\"text-align: right;\">\n",
       "      <th></th>\n",
       "      <th>D</th>\n",
       "      <th>X1</th>\n",
       "      <th>X2</th>\n",
       "      <th>X3</th>\n",
       "      <th>X4</th>\n",
       "      <th>X5</th>\n",
       "      <th>X6</th>\n",
       "    </tr>\n",
       "  </thead>\n",
       "  <tbody>\n",
       "    <tr>\n",
       "      <th>0</th>\n",
       "      <td>0</td>\n",
       "      <td>5</td>\n",
       "      <td>1</td>\n",
       "      <td>4</td>\n",
       "      <td>4</td>\n",
       "      <td>4</td>\n",
       "      <td>5</td>\n",
       "    </tr>\n",
       "    <tr>\n",
       "      <th>1</th>\n",
       "      <td>0</td>\n",
       "      <td>5</td>\n",
       "      <td>2</td>\n",
       "      <td>2</td>\n",
       "      <td>4</td>\n",
       "      <td>4</td>\n",
       "      <td>5</td>\n",
       "    </tr>\n",
       "    <tr>\n",
       "      <th>2</th>\n",
       "      <td>0</td>\n",
       "      <td>5</td>\n",
       "      <td>3</td>\n",
       "      <td>5</td>\n",
       "      <td>4</td>\n",
       "      <td>5</td>\n",
       "      <td>5</td>\n",
       "    </tr>\n",
       "    <tr>\n",
       "      <th>3</th>\n",
       "      <td>1</td>\n",
       "      <td>3</td>\n",
       "      <td>4</td>\n",
       "      <td>4</td>\n",
       "      <td>5</td>\n",
       "      <td>1</td>\n",
       "      <td>3</td>\n",
       "    </tr>\n",
       "    <tr>\n",
       "      <th>4</th>\n",
       "      <td>1</td>\n",
       "      <td>5</td>\n",
       "      <td>1</td>\n",
       "      <td>5</td>\n",
       "      <td>5</td>\n",
       "      <td>5</td>\n",
       "      <td>5</td>\n",
       "    </tr>\n",
       "  </tbody>\n",
       "</table>\n",
       "</div>"
      ],
      "text/plain": [
       "   D  X1  X2  X3  X4  X5  X6\n",
       "0  0   5   1   4   4   4   5\n",
       "1  0   5   2   2   4   4   5\n",
       "2  0   5   3   5   4   5   5\n",
       "3  1   3   4   4   5   1   3\n",
       "4  1   5   1   5   5   5   5"
      ]
     },
     "execution_count": 4,
     "metadata": {},
     "output_type": "execute_result"
    }
   ],
   "source": [
    "test.head()"
   ]
  },
  {
   "cell_type": "code",
   "execution_count": 5,
   "metadata": {},
   "outputs": [
    {
     "name": "stdout",
     "output_type": "stream",
     "text": [
      "<class 'pandas.core.frame.DataFrame'>\n",
      "RangeIndex: 129 entries, 0 to 128\n",
      "Data columns (total 7 columns):\n",
      "D     129 non-null int64\n",
      "X1    129 non-null int64\n",
      "X2    129 non-null int64\n",
      "X3    129 non-null int64\n",
      "X4    129 non-null int64\n",
      "X5    129 non-null int64\n",
      "X6    129 non-null int64\n",
      "dtypes: int64(7)\n",
      "memory usage: 7.1 KB\n"
     ]
    }
   ],
   "source": [
    "data.info()"
   ]
  },
  {
   "cell_type": "code",
   "execution_count": 6,
   "metadata": {},
   "outputs": [
    {
     "data": {
      "text/html": [
       "<div>\n",
       "<style scoped>\n",
       "    .dataframe tbody tr th:only-of-type {\n",
       "        vertical-align: middle;\n",
       "    }\n",
       "\n",
       "    .dataframe tbody tr th {\n",
       "        vertical-align: top;\n",
       "    }\n",
       "\n",
       "    .dataframe thead th {\n",
       "        text-align: right;\n",
       "    }\n",
       "</style>\n",
       "<table border=\"1\" class=\"dataframe\">\n",
       "  <thead>\n",
       "    <tr style=\"text-align: right;\">\n",
       "      <th></th>\n",
       "      <th>D</th>\n",
       "      <th>X1</th>\n",
       "      <th>X2</th>\n",
       "      <th>X3</th>\n",
       "      <th>X4</th>\n",
       "      <th>X5</th>\n",
       "      <th>X6</th>\n",
       "    </tr>\n",
       "  </thead>\n",
       "  <tbody>\n",
       "    <tr>\n",
       "      <th>count</th>\n",
       "      <td>129.000000</td>\n",
       "      <td>129.000000</td>\n",
       "      <td>129.000000</td>\n",
       "      <td>129.000000</td>\n",
       "      <td>129.000000</td>\n",
       "      <td>129.000000</td>\n",
       "      <td>129.000000</td>\n",
       "    </tr>\n",
       "    <tr>\n",
       "      <th>mean</th>\n",
       "      <td>0.542636</td>\n",
       "      <td>4.279070</td>\n",
       "      <td>2.511628</td>\n",
       "      <td>3.271318</td>\n",
       "      <td>3.689922</td>\n",
       "      <td>3.612403</td>\n",
       "      <td>4.217054</td>\n",
       "    </tr>\n",
       "    <tr>\n",
       "      <th>std</th>\n",
       "      <td>0.500121</td>\n",
       "      <td>0.809868</td>\n",
       "      <td>1.118846</td>\n",
       "      <td>0.982280</td>\n",
       "      <td>0.845932</td>\n",
       "      <td>1.106162</td>\n",
       "      <td>0.800012</td>\n",
       "    </tr>\n",
       "    <tr>\n",
       "      <th>min</th>\n",
       "      <td>0.000000</td>\n",
       "      <td>1.000000</td>\n",
       "      <td>1.000000</td>\n",
       "      <td>1.000000</td>\n",
       "      <td>1.000000</td>\n",
       "      <td>1.000000</td>\n",
       "      <td>1.000000</td>\n",
       "    </tr>\n",
       "    <tr>\n",
       "      <th>25%</th>\n",
       "      <td>0.000000</td>\n",
       "      <td>4.000000</td>\n",
       "      <td>2.000000</td>\n",
       "      <td>3.000000</td>\n",
       "      <td>3.000000</td>\n",
       "      <td>3.000000</td>\n",
       "      <td>4.000000</td>\n",
       "    </tr>\n",
       "    <tr>\n",
       "      <th>50%</th>\n",
       "      <td>1.000000</td>\n",
       "      <td>4.000000</td>\n",
       "      <td>2.000000</td>\n",
       "      <td>3.000000</td>\n",
       "      <td>4.000000</td>\n",
       "      <td>4.000000</td>\n",
       "      <td>4.000000</td>\n",
       "    </tr>\n",
       "    <tr>\n",
       "      <th>75%</th>\n",
       "      <td>1.000000</td>\n",
       "      <td>5.000000</td>\n",
       "      <td>3.000000</td>\n",
       "      <td>4.000000</td>\n",
       "      <td>4.000000</td>\n",
       "      <td>4.000000</td>\n",
       "      <td>5.000000</td>\n",
       "    </tr>\n",
       "    <tr>\n",
       "      <th>max</th>\n",
       "      <td>1.000000</td>\n",
       "      <td>5.000000</td>\n",
       "      <td>5.000000</td>\n",
       "      <td>5.000000</td>\n",
       "      <td>5.000000</td>\n",
       "      <td>5.000000</td>\n",
       "      <td>5.000000</td>\n",
       "    </tr>\n",
       "  </tbody>\n",
       "</table>\n",
       "</div>"
      ],
      "text/plain": [
       "                D          X1          X2          X3          X4          X5  \\\n",
       "count  129.000000  129.000000  129.000000  129.000000  129.000000  129.000000   \n",
       "mean     0.542636    4.279070    2.511628    3.271318    3.689922    3.612403   \n",
       "std      0.500121    0.809868    1.118846    0.982280    0.845932    1.106162   \n",
       "min      0.000000    1.000000    1.000000    1.000000    1.000000    1.000000   \n",
       "25%      0.000000    4.000000    2.000000    3.000000    3.000000    3.000000   \n",
       "50%      1.000000    4.000000    2.000000    3.000000    4.000000    4.000000   \n",
       "75%      1.000000    5.000000    3.000000    4.000000    4.000000    4.000000   \n",
       "max      1.000000    5.000000    5.000000    5.000000    5.000000    5.000000   \n",
       "\n",
       "               X6  \n",
       "count  129.000000  \n",
       "mean     4.217054  \n",
       "std      0.800012  \n",
       "min      1.000000  \n",
       "25%      4.000000  \n",
       "50%      4.000000  \n",
       "75%      5.000000  \n",
       "max      5.000000  "
      ]
     },
     "execution_count": 6,
     "metadata": {},
     "output_type": "execute_result"
    }
   ],
   "source": [
    "data.describe()"
   ]
  },
  {
   "cell_type": "code",
   "execution_count": 8,
   "metadata": {},
   "outputs": [
    {
     "data": {
      "text/plain": [
       "array([[<matplotlib.axes._subplots.AxesSubplot object at 0x7f3d5c7ccba8>,\n",
       "        <matplotlib.axes._subplots.AxesSubplot object at 0x7f3d5c4d68d0>,\n",
       "        <matplotlib.axes._subplots.AxesSubplot object at 0x7f3d5c4fef60>],\n",
       "       [<matplotlib.axes._subplots.AxesSubplot object at 0x7f3d5c4af5c0>,\n",
       "        <matplotlib.axes._subplots.AxesSubplot object at 0x7f3d5c455c50>,\n",
       "        <matplotlib.axes._subplots.AxesSubplot object at 0x7f3d5c455c88>],\n",
       "       [<matplotlib.axes._subplots.AxesSubplot object at 0x7f3d5c42f9b0>,\n",
       "        <matplotlib.axes._subplots.AxesSubplot object at 0x7f3d5c3df080>,\n",
       "        <matplotlib.axes._subplots.AxesSubplot object at 0x7f3d5c404710>]],\n",
       "      dtype=object)"
      ]
     },
     "execution_count": 8,
     "metadata": {},
     "output_type": "execute_result"
    },
    {
     "data": {
      "image/png": "[encoded data removed]",
      "text/plain": [
       "<Figure size 1800x1080 with 9 Axes>"
      ]
     },
     "metadata": {
      "needs_background": "light"
     },
     "output_type": "display_data"
    }
   ],
   "source": [
    "data.hist(bins=50,figsize=(25,15))"
   ]
  },
  {
   "cell_type": "code",
   "execution_count": 13,
   "metadata": {},
   "outputs": [
    {
     "data": {
      "text/plain": [
       "array([[<matplotlib.axes._subplots.AxesSubplot object at 0x7f3d5aeb8080>,\n",
       "        <matplotlib.axes._subplots.AxesSubplot object at 0x7f3d5ac23f28>,\n",
       "        <matplotlib.axes._subplots.AxesSubplot object at 0x7f3d5ab72a20>,\n",
       "        <matplotlib.axes._subplots.AxesSubplot object at 0x7f3d5ab980f0>,\n",
       "        <matplotlib.axes._subplots.AxesSubplot object at 0x7f3d5ab38780>,\n",
       "        <matplotlib.axes._subplots.AxesSubplot object at 0x7f3d5ab387b8>,\n",
       "        <matplotlib.axes._subplots.AxesSubplot object at 0x7f3d5ab134e0>],\n",
       "       [<matplotlib.axes._subplots.AxesSubplot object at 0x7f3d5aab9b70>,\n",
       "        <matplotlib.axes._subplots.AxesSubplot object at 0x7f3d5aa6b240>,\n",
       "        <matplotlib.axes._subplots.AxesSubplot object at 0x7f3d5aa948d0>,\n",
       "        <matplotlib.axes._subplots.AxesSubplot object at 0x7f3d5aa3cf60>,\n",
       "        <matplotlib.axes._subplots.AxesSubplot object at 0x7f3d5a9ed630>,\n",
       "        <matplotlib.axes._subplots.AxesSubplot object at 0x7f3d5aa15cc0>,\n",
       "        <matplotlib.axes._subplots.AxesSubplot object at 0x7f3d5a9c8390>],\n",
       "       [<matplotlib.axes._subplots.AxesSubplot object at 0x7f3d5a970a20>,\n",
       "        <matplotlib.axes._subplots.AxesSubplot object at 0x7f3d5a9a10f0>,\n",
       "        <matplotlib.axes._subplots.AxesSubplot object at 0x7f3d5a949780>,\n",
       "        <matplotlib.axes._subplots.AxesSubplot object at 0x7f3d5a8f3e10>,\n",
       "        <matplotlib.axes._subplots.AxesSubplot object at 0x7f3d5a9244e0>,\n",
       "        <matplotlib.axes._subplots.AxesSubplot object at 0x7f3d5a8cbb70>,\n",
       "        <matplotlib.axes._subplots.AxesSubplot object at 0x7f3d5a87f240>],\n",
       "       [<matplotlib.axes._subplots.AxesSubplot object at 0x7f3d5a8258d0>,\n",
       "        <matplotlib.axes._subplots.AxesSubplot object at 0x7f3d5a850f60>,\n",
       "        <matplotlib.axes._subplots.AxesSubplot object at 0x7f3d5a802630>,\n",
       "        <matplotlib.axes._subplots.AxesSubplot object at 0x7f3d5a7a8cc0>,\n",
       "        <matplotlib.axes._subplots.AxesSubplot object at 0x7f3d5a7da390>,\n",
       "        <matplotlib.axes._subplots.AxesSubplot object at 0x7f3d5a782a20>,\n",
       "        <matplotlib.axes._subplots.AxesSubplot object at 0x7f3d5a7350f0>],\n",
       "       [<matplotlib.axes._subplots.AxesSubplot object at 0x7f3d5a75c780>,\n",
       "        <matplotlib.axes._subplots.AxesSubplot object at 0x7f3d5a706e10>,\n",
       "        <matplotlib.axes._subplots.AxesSubplot object at 0x7f3d5a6b84e0>,\n",
       "        <matplotlib.axes._subplots.AxesSubplot object at 0x7f3d5a6dfb70>,\n",
       "        <matplotlib.axes._subplots.AxesSubplot object at 0x7f3d5a690240>,\n",
       "        <matplotlib.axes._subplots.AxesSubplot object at 0x7f3d5a6388d0>,\n",
       "        <matplotlib.axes._subplots.AxesSubplot object at 0x7f3d5a664f60>],\n",
       "       [<matplotlib.axes._subplots.AxesSubplot object at 0x7f3d5a612630>,\n",
       "        <matplotlib.axes._subplots.AxesSubplot object at 0x7f3d5a5bdcc0>,\n",
       "        <matplotlib.axes._subplots.AxesSubplot object at 0x7f3d5a56d390>,\n",
       "        <matplotlib.axes._subplots.AxesSubplot object at 0x7f3d5a595a20>,\n",
       "        <matplotlib.axes._subplots.AxesSubplot object at 0x7f3d5a5480f0>,\n",
       "        <matplotlib.axes._subplots.AxesSubplot object at 0x7f3d5a4f0780>,\n",
       "        <matplotlib.axes._subplots.AxesSubplot object at 0x7f3d5a518e10>],\n",
       "       [<matplotlib.axes._subplots.AxesSubplot object at 0x7f3d5a4c94e0>,\n",
       "        <matplotlib.axes._subplots.AxesSubplot object at 0x7f3d5a470b70>,\n",
       "        <matplotlib.axes._subplots.AxesSubplot object at 0x7f3d5a4a3240>,\n",
       "        <matplotlib.axes._subplots.AxesSubplot object at 0x7f3d5a44c8d0>,\n",
       "        <matplotlib.axes._subplots.AxesSubplot object at 0x7f3d5a3f6f60>,\n",
       "        <matplotlib.axes._subplots.AxesSubplot object at 0x7f3d5a3a5630>,\n",
       "        <matplotlib.axes._subplots.AxesSubplot object at 0x7f3d5a3cc828>]],\n",
       "      dtype=object)"
      ]
     },
     "execution_count": 13,
     "metadata": {},
     "output_type": "execute_result"
    },
    {
     "data": {
      "image/png": "[encoded data removed]",
      "text/plain": [
       "<Figure size 864x576 with 49 Axes>"
      ]
     },
     "metadata": {
      "needs_background": "light"
     },
     "output_type": "display_data"
    }
   ],
   "source": [
    "from pandas.plotting import scatter_matrix\n",
    "scatter_matrix(data,figsize=(12,8))"
   ]
  },
  {
   "cell_type": "code",
   "execution_count": 15,
   "metadata": {},
   "outputs": [
    {
     "data": {
      "text/plain": [
       "<matplotlib.axes._subplots.AxesSubplot at 0x7f3d55bc8f98>"
      ]
     },
     "execution_count": 15,
     "metadata": {},
     "output_type": "execute_result"
    },
    {
     "data": {
      "image/png": "[encoded data removed]",
      "text/plain": [
       "<Figure size 432x288 with 2 Axes>"
      ]
     },
     "metadata": {
      "needs_background": "light"
     },
     "output_type": "display_data"
    }
   ],
   "source": [
    "import seaborn as sns\n",
    "corr=data.corr()\n",
    "sns.heatmap(corr, \n",
    "        xticklabels=corr.columns,\n",
    "        yticklabels=corr.columns,annot=True)"
   ]
  },
  {
   "cell_type": "code",
   "execution_count": 6,
   "metadata": {},
   "outputs": [],
   "source": [
    "X=data.drop([\"D\"],axis=1)\n",
    "Y=data[\"D\"]"
   ]
  },
  {
   "cell_type": "code",
   "execution_count": 9,
   "metadata": {},
   "outputs": [],
   "source": [
    "def separate(data):\n",
    "    separated={}\n",
    "    for i in range(len(data)):\n",
    "        instance=data[i]\n",
    "        if(instance[0] not in separated):\n",
    "            separated[instance[0]]=np.asarray([instance])\n",
    "        else: separated[instance[0]]=np.append(separated[instance[0]],[instance],axis=0)\n",
    "    return separated"
   ]
  },
  {
   "cell_type": "code",
   "execution_count": 10,
   "metadata": {},
   "outputs": [],
   "source": [
    "dataset=data.to_numpy()\n",
    "separated=separate(dataset)"
   ]
  },
  {
   "cell_type": "code",
   "execution_count": 13,
   "metadata": {},
   "outputs": [],
   "source": [
    "p_0=len(separated[0])/(len(separated[0])+len(separated[1]))\n",
    "p_1=len(separated[1])/(len(separated[0])+len(separated[1]))"
   ]
  },
  {
   "cell_type": "code",
   "execution_count": 50,
   "metadata": {},
   "outputs": [],
   "source": [
    "def probability_byclass(separated):\n",
    "    probabilities={}\n",
    "    n0=len(separated[0])\n",
    "    n1=len(separated[1])\n",
    "    for i in range(1,7):\n",
    "        s1=\"p_X\"+str(i)+\"_D0\"\n",
    "        s2=\"p_X\"+str(i)+\"_D1\"\n",
    "        unique,counts=np.unique(separated[0][:,i],return_counts=True)\n",
    "        counts=(counts+1)/(n0+5)\n",
    "        d=dict(zip(unique,counts))\n",
    "        for j in range(1,6):\n",
    "            if j not in d.keys():\n",
    "                d[j]=1/(n0+5)\n",
    "        probabilities[s1]=d \n",
    "        \n",
    "        unique,counts=np.unique(separated[1][:,i],return_counts=True)\n",
    "        counts=(counts+1)/(n1+5)\n",
    "        d=dict(zip(unique,counts))\n",
    "        for j in range(1,6):\n",
    "            if j not in d.keys():\n",
    "                d[j]=1/(n1+5)\n",
    "        probabilities[s2]=d\n",
    "        \n",
    "    return probabilities"
   ]
  },
  {
   "cell_type": "code",
   "execution_count": 51,
   "metadata": {},
   "outputs": [],
   "source": [
    "prob=probability_byclass(separated)"
   ]
  },
  {
   "cell_type": "code",
   "execution_count": 52,
   "metadata": {},
   "outputs": [
    {
     "data": {
      "text/plain": [
       "dict_keys(['p_X1_D0', 'p_X1_D1', 'p_X2_D0', 'p_X2_D1', 'p_X3_D0', 'p_X3_D1', 'p_X4_D0', 'p_X4_D1', 'p_X5_D0', 'p_X5_D1', 'p_X6_D0', 'p_X6_D1'])"
      ]
     },
     "execution_count": 52,
     "metadata": {},
     "output_type": "execute_result"
    }
   ],
   "source": [
    "prob.keys()"
   ]
  },
  {
   "cell_type": "code",
   "execution_count": 53,
   "metadata": {},
   "outputs": [],
   "source": [
    "def predict(test,prob):\n",
    "    predictions=[]\n",
    "    for i in range(test.shape[0]):\n",
    "        instance=test[i]\n",
    "        p0=1\n",
    "        p1=1\n",
    "        for i in range(1,7):\n",
    "            s1=\"p_X\"+str(i)+\"_D0\"\n",
    "            s2=\"p_X\"+str(i)+\"_D1\"\n",
    "            p0=p0*prob[s1][instance[i]]\n",
    "            p1=p1*prob[s2][instance[i]]\n",
    "        p0=p0*p_0\n",
    "        p1=p1*p_1\n",
    "        if(p0>=p1):\n",
    "            predictions.append(0)\n",
    "        else:\n",
    "            predictions.append(1)\n",
    "            \n",
    "    return predictions"
   ]
  },
  {
   "cell_type": "code",
   "execution_count": 54,
   "metadata": {},
   "outputs": [],
   "source": [
    "ts=test.to_numpy()\n",
    "predictions=predict(ts,prob)"
   ]
  },
  {
   "cell_type": "code",
   "execution_count": 59,
   "metadata": {},
   "outputs": [
    {
     "name": "stdout",
     "output_type": "stream",
     "text": [
      "0.35714285714285715\n",
      "5\n"
     ]
    }
   ],
   "source": [
    "count=0\n",
    "for i in range(ts.shape[0]):\n",
    "    if(ts[i,0]==predictions[i]):\n",
    "        count+=1\n",
    "print(count/ts.shape[0])\n",
    "print(count)"
   ]
  },
  {
   "cell_type": "code",
   "execution_count": 56,
   "metadata": {},
   "outputs": [
    {
     "data": {
      "text/plain": [
       "[1, 1, 1, 0, 1, 0, 1, 0, 0, 1, 1, 1, 1, 1]"
      ]
     },
     "execution_count": 56,
     "metadata": {},
     "output_type": "execute_result"
    }
   ],
   "source": [
    "y_pred=predict(dataset,prob)\n",
    "count=0\n",
    "for i in range(datas.shape[0]):\n",
    "    if(ts[i,0]==predictions[i]):\n",
    "        count+=1\n",
    "print(count/ts.shape[0])\n",
    "print(count)"
   ]
  },
  {
   "cell_type": "code",
   "execution_count": null,
   "metadata": {},
   "outputs": [],
   "source": []
  },
  {
   "cell_type": "code",
   "execution_count": 1,
   "metadata": {},
   "outputs": [],
   "source": [
    "import pandas as pd\n",
    "import numpy as np\n",
    "\n",
    "class Naive_Bayes():\n",
    "    \n",
    "    def __init__(self):\n",
    "        self.prob={}\n",
    "        self.predictions=[]\n",
    "        \n",
    "    def separate(self,data):\n",
    "        separated={}\n",
    "        for i in range(len(data)):\n",
    "            instance=data[i]\n",
    "            if(instance[0] not in separated.keys()):\n",
    "                separated[instance[0]]=np.asarray([instance])\n",
    "            else: separated[instance[0]]=np.append(separated[instance[0]],[instance],axis=0)\n",
    "        return separated\n",
    "\n",
    "    def fit(self,data):\n",
    "        separated=self.separate(data)\n",
    "        \n",
    "        n0=len(separated[0])\n",
    "        n1=len(separated[1])\n",
    "        self.prob[\"p0\"]=n0/(n0+n1)\n",
    "        self.prob[\"p1\"]=n1/(n0+n1)\n",
    "        \n",
    "        \n",
    "        for i in range(1,7):\n",
    "            s1=\"p_X\"+str(i)+\"_D0\"\n",
    "            s2=\"p_X\"+str(i)+\"_D1\"\n",
    "            unique,counts=np.unique(separated[0][:,i],return_counts=True)\n",
    "            counts=(counts+1)/(n0+5)\n",
    "            d=dict(zip(unique,counts))\n",
    "            for j in range(1,6):\n",
    "                if j not in d.keys():\n",
    "                    d[j]=1/(n0+5)\n",
    "            self.prob[s1]=d \n",
    "\n",
    "            unique,counts=np.unique(separated[1][:,i],return_counts=True)\n",
    "            counts=(counts+1)/(n1+5)\n",
    "            d=dict(zip(unique,counts))\n",
    "            for j in range(1,6):\n",
    "                if j not in d.keys():\n",
    "                    d[j]=1/(n1+5)\n",
    "            self.prob[s2]=d\n",
    "        \n",
    "    def predict(self,test):\n",
    "        count=0\n",
    "        for i in range(test.shape[0]):\n",
    "            instance=test[i]\n",
    "            p_0=1\n",
    "            p_1=1\n",
    "            for j in range(1,7):\n",
    "                s1=\"p_X\"+str(j)+\"_D0\"\n",
    "                s2=\"p_X\"+str(j)+\"_D1\"\n",
    "                p_0=p_0*self.prob[s1][instance[j]]\n",
    "                p_1=p_1*self.prob[s2][instance[j]]\n",
    "            p_0=p_0*self.prob[\"p0\"]\n",
    "            p_1=p_1*self.prob[\"p1\"]\n",
    "            if(p_0>=p_1):\n",
    "                pred=0\n",
    "            else:\n",
    "                pred=1\n",
    "            self.predictions.append(pred)\n",
    "            if(instance[0]==pred): count+=1\n",
    "            \n",
    "        accuracy=count/(test.shape[0])\n",
    "        print(\"count {}\".format(count))\n",
    "        print(\"accuracy: {}%\".format(accuracy*100))"
   ]
  },
  {
   "cell_type": "code",
   "execution_count": 2,
   "metadata": {},
   "outputs": [],
   "source": [
    "def read(path):\n",
    "    raw=pd.read_csv(path).to_numpy()\n",
    "    flag=0\n",
    "    for i in range(raw.shape[0]):\n",
    "        L=list(map(int,raw[i][0].split(',')))\n",
    "        if flag==0:\n",
    "            data=np.asarray([L])\n",
    "            flag=1\n",
    "        else:\n",
    "            data=np.append(data,np.asarray([L]),axis=0)\n",
    "    return data"
   ]
  },
  {
   "cell_type": "code",
   "execution_count": 3,
   "metadata": {},
   "outputs": [
    {
     "name": "stdout",
     "output_type": "stream",
     "text": [
      "count 5\n",
      "accuracy: 35.714285714285715%\n"
     ]
    }
   ],
   "source": [
    "data=read(\"data2_19.csv\")\n",
    "test=read(\"test2_19.csv\")\n",
    "model=Naive_Bayes()\n",
    "model.fit(data)\n",
    "model.predict(test)"
   ]
  },
  {
   "cell_type": "code",
   "execution_count": null,
   "metadata": {},
   "outputs": [],
   "source": []
  },
  {
   "cell_type": "code",
   "execution_count": null,
   "metadata": {},
   "outputs": [],
   "source": []
  }
 ],
 "metadata": {
  "kernelspec": {
   "display_name": "Python 3",
   "language": "python",
   "name": "python3"
  },
  "language_info": {
   "codemirror_mode": {
    "name": "ipython",
    "version": 3
   },
   "file_extension": ".py",
   "mimetype": "text/x-python",
   "name": "python",
   "nbconvert_exporter": "python",
   "pygments_lexer": "ipython3",
   "version": "3.7.1"
  }
 },
 "nbformat": 4,
 "nbformat_minor": 2
}
